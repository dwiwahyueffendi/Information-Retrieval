{
 "cells": [
  {
   "cell_type": "code",
   "execution_count": 3,
   "metadata": {},
   "outputs": [],
   "source": [
    "# General\n",
    "import numpy as np\n",
    "import pandas as pd\n",
    "import nltk\n",
    "import random\n",
    "import os\n",
    "from os import path\n",
    "from PIL import Image\n",
    "\n",
    "# Visualization\n",
    "import matplotlib as mpl\n",
    "import matplotlib.pyplot as plt\n",
    "import seaborn as sns\n",
    "%matplotlib inline\n",
    "from subprocess import check_output\n",
    "from wordcloud import WordCloud, STOPWORDS"
   ]
  },
  {
   "cell_type": "code",
   "execution_count": 4,
   "metadata": {},
   "outputs": [],
   "source": [
    "# Set Plot Theme\n",
    "sns.set_palette([\n",
    "    \"#30a2da\",\n",
    "    \"#fc4f30\",\n",
    "    \"#e5ae38\",\n",
    "    \"#6d904f\",\n",
    "    \"#8b8b8b\",\n",
    "])\n",
    "# Alternate # plt.style.use('fivethirtyeight')\n",
    "\n",
    "# Pre-Processing\n",
    "import string\n",
    "from nltk.tokenize import RegexpTokenizer\n",
    "from nltk.corpus import stopwords\n",
    "import re\n",
    "from nltk.stem import PorterStemmer"
   ]
  },
  {
   "cell_type": "code",
   "execution_count": 6,
   "metadata": {},
   "outputs": [
    {
     "name": "stdout",
     "output_type": "stream",
     "text": [
      "Missing Values: 2966\n",
      "Dataframe Dimension: 22628 Rows, 10 Columns\n"
     ]
    }
   ],
   "source": [
    "# Read and Peak at Data\n",
    "df = pd.read_csv(\"Womens Clothing E-Commerce Reviews.csv\")\n",
    "df.drop(df.columns[0],inplace=True, axis=1)\n",
    "\n",
    "# Delete missing observations for following variables\n",
    "for x in [\"Division Name\",\"Department Name\",\"Class Name\",\"Review Text\"]:\n",
    "    df = df[df[x].notnull()]\n",
    "\n",
    "# Extracting Missing Count and Unique Count by Column\n",
    "unique_count = []\n",
    "for x in df.columns:\n",
    "    unique_count.append([x,len(df[x].unique()),df[x].isnull().sum()])\n",
    "\n",
    "# Missing Values\n",
    "print(\"Missing Values: {}\".format(df.isnull().sum().sum()))\n",
    "\n",
    "# Data Dimensions\n",
    "print(\"Dataframe Dimension: {} Rows, {} Columns\".format(*df.shape))\n",
    "\n",
    "# Create New Variables: \n",
    "# Word Length\n",
    "df[\"Word Count\"] = df['Review Text'].str.split().apply(len)\n",
    "# Character Length\n",
    "df[\"Character Count\"] = df['Review Text'].apply(len)\n",
    "# Boolean for Positive and Negative Reviews\n",
    "df[\"Label\"] = 0\n",
    "df.loc[df.Rating >= 3,[\"Label\"]] = 1"
   ]
  },
  {
   "cell_type": "code",
   "execution_count": null,
   "metadata": {},
   "outputs": [],
   "source": []
  },
  {
   "cell_type": "code",
   "execution_count": null,
   "metadata": {},
   "outputs": [],
   "source": []
  }
 ],
 "metadata": {
  "kernelspec": {
   "display_name": "Python 3",
   "language": "python",
   "name": "python3"
  },
  "language_info": {
   "codemirror_mode": {
    "name": "ipython",
    "version": 3
   },
   "file_extension": ".py",
   "mimetype": "text/x-python",
   "name": "python",
   "nbconvert_exporter": "python",
   "pygments_lexer": "ipython3",
   "version": "3.8.3"
  }
 },
 "nbformat": 4,
 "nbformat_minor": 4
}
